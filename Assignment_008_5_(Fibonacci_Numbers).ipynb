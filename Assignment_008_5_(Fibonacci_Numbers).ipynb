{
  "nbformat": 4,
  "nbformat_minor": 0,
  "metadata": {
    "colab": {
      "name": "Assignment-008/5 (Fibonacci Numbers).ipynb",
      "provenance": [],
      "authorship_tag": "ABX9TyOHrSbvJDcvRISpGiaKSDRD",
      "include_colab_link": true
    },
    "kernelspec": {
      "name": "python3",
      "display_name": "Python 3"
    },
    "language_info": {
      "name": "python"
    }
  },
  "cells": [
    {
      "cell_type": "markdown",
      "metadata": {
        "id": "view-in-github",
        "colab_type": "text"
      },
      "source": [
        "<a href=\"https://colab.research.google.com/github/burcuaksoy91/python_assignment/blob/main/Assignment_008_5_(Fibonacci_Numbers).ipynb\" target=\"_parent\"><img src=\"https://colab.research.google.com/assets/colab-badge.svg\" alt=\"Open In Colab\"/></a>"
      ]
    },
    {
      "cell_type": "code",
      "metadata": {
        "id": "H1r7eEHJy0DU"
      },
      "source": [
        "fibonacci = int(input(\"Kaça kadar fibonacci sayısı üretilsin: \"))\n",
        "fibonacci_list = [1, 1]\n",
        "i = 1\n",
        "for i in range(1, fibonacci- 1):\n",
        "  fibonacci_list.append(fibonacci_list[i] + fibonacci_list[i- 1])\n",
        "  if fibonacci_list[i + 1] == 55 :\n",
        "    print(fibonacci_list)\n",
        "    break\n",
        "  else :\n",
        "    continue"
      ],
      "execution_count": null,
      "outputs": []
    }
  ]
}