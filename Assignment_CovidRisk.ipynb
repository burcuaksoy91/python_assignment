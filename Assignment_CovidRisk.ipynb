{
  "nbformat": 4,
  "nbformat_minor": 0,
  "metadata": {
    "colab": {
      "name": "Assignment_CovidRisk.ipynb",
      "provenance": [],
      "authorship_tag": "ABX9TyP/LWR7DAfvli/ac3qInJWo",
      "include_colab_link": true
    },
    "kernelspec": {
      "name": "python3",
      "display_name": "Python 3"
    },
    "language_info": {
      "name": "python"
    }
  },
  "cells": [
    {
      "cell_type": "markdown",
      "metadata": {
        "id": "view-in-github",
        "colab_type": "text"
      },
      "source": [
        "<a href=\"https://colab.research.google.com/github/burcuaksoy91/python_assignment/blob/main/Assignment_CovidRisk.ipynb\" target=\"_parent\"><img src=\"https://colab.research.google.com/assets/colab-badge.svg\" alt=\"Open In Colab\"/></a>"
      ]
    },
    {
      "cell_type": "code",
      "metadata": {
        "id": "f4OFM182Imc1"
      },
      "source": [
        "age = input(\"Are you a cigarette addict older than 75 years old?\")\n",
        "while age != \"True\" and  age != \"False\" :  \n",
        "  print(\"Please enter True or False\")  \n",
        "  age = input(\"Are you a cigarette addict older than 75 years old?\")\n",
        "chronic = input(\"Do you have a severe chronic disease?\")\n",
        "while chronic != \"True\" and chronic != \"False\" :  \n",
        "  print(\"Please enter True or False\")\n",
        "  chronic = input(\"Are you a cigarette addict older than 75 years old?\") \n",
        "immune =input(\"Is your immune system too weak? \")\n",
        "while immune != \"True\" and immune != \"False\" :  \n",
        "  print(\"Please enter True or False\")\n",
        "  immune = input(\"Is your immune system too weak?\")   \n",
        "if age and chronic and immune == 'True' :\n",
        "  print(\"You are in risky group\")\n",
        "else :\n",
        "  print(\"You are not in risky group\")  "
      ],
      "execution_count": null,
      "outputs": []
    }
  ]
}