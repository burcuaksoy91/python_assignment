{
  "nbformat": 4,
  "nbformat_minor": 0,
  "metadata": {
    "colab": {
      "name": "Assignment-008/4.ipynb",
      "provenance": [],
      "authorship_tag": "ABX9TyPo8Wnqi9Ab1ph5FB8x6un9",
      "include_colab_link": true
    },
    "kernelspec": {
      "name": "python3",
      "display_name": "Python 3"
    },
    "language_info": {
      "name": "python"
    }
  },
  "cells": [
    {
      "cell_type": "markdown",
      "metadata": {
        "id": "view-in-github",
        "colab_type": "text"
      },
      "source": [
        "<a href=\"https://colab.research.google.com/github/burcuaksoy91/python_assignment/blob/main/Assignment_008_4.ipynb\" target=\"_parent\"><img src=\"https://colab.research.google.com/assets/colab-badge.svg\" alt=\"Open In Colab\"/></a>"
      ]
    },
    {
      "cell_type": "code",
      "metadata": {
        "id": "wfX_lKOy_-je"
      },
      "source": [
        "number = int(input(\"Enter a number: \"))\n",
        "if number > 1:\n",
        " \n",
        "   for i in range(2,number) :\n",
        "       if (number % i) == 0 :\n",
        "           print(number,\"is not a prime number\")\n",
        "           break\n",
        "   else:\n",
        "       print(number,\"is a prime number\")\n",
        "       \n",
        "else:\n",
        "   print(num,\"is not a prime number\")"
      ],
      "execution_count": null,
      "outputs": []
    }
  ]
}