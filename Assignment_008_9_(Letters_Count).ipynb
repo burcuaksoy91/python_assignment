{
  "nbformat": 4,
  "nbformat_minor": 0,
  "metadata": {
    "colab": {
      "name": "Assignment-008/9 (Letters Count).ipynb",
      "provenance": [],
      "authorship_tag": "ABX9TyMrbDQ/3jpT5f5vqSWWDAZP",
      "include_colab_link": true
    },
    "kernelspec": {
      "name": "python3",
      "display_name": "Python 3"
    },
    "language_info": {
      "name": "python"
    }
  },
  "cells": [
    {
      "cell_type": "markdown",
      "metadata": {
        "id": "view-in-github",
        "colab_type": "text"
      },
      "source": [
        "<a href=\"https://colab.research.google.com/github/burcuaksoy91/python_assignment/blob/main/Assignment_008_9_(Letters_Count).ipynb\" target=\"_parent\"><img src=\"https://colab.research.google.com/assets/colab-badge.svg\" alt=\"Open In Colab\"/></a>"
      ]
    },
    {
      "cell_type": "code",
      "metadata": {
        "colab": {
          "base_uri": "https://localhost:8080/"
        },
        "id": "1pxoqAiDE8Tw",
        "outputId": "6675ddc2-c770-4735-d53e-7130d611eadf"
      },
      "source": [
        "string = \"hippo runs to us!\"\n",
        "listem = []\n",
        "letter_dict = {}\n",
        "count = 0\n",
        "for i in string:\n",
        "  listem.append(i)\n",
        "for k in listem :\n",
        "  count = string.count(k)\n",
        "  letter_dict.update({k:count})\n",
        "print(letter_dict)  "
      ],
      "execution_count": 35,
      "outputs": [
        {
          "output_type": "stream",
          "text": [
            "{'h': 1, 'i': 1, 'p': 2, 'o': 2, ' ': 3, 'r': 1, 'u': 2, 'n': 1, 's': 2, 't': 1, '!': 1}\n"
          ],
          "name": "stdout"
        }
      ]
    },
    {
      "cell_type": "markdown",
      "metadata": {
        "id": "l9vCCK8rIpAa"
      },
      "source": [
        "Function\n"
      ]
    },
    {
      "cell_type": "code",
      "metadata": {
        "colab": {
          "base_uri": "https://localhost:8080/"
        },
        "id": "5jK7msMfF0op",
        "outputId": "e46abab4-c793-48b0-92b1-21a578cdf58f"
      },
      "source": [
        "def letter_count(string):\n",
        "  listem = []\n",
        "  letter_dict = {}\n",
        "  count = 0\n",
        "  for i in string:\n",
        "    listem.append(i)\n",
        "  for k in listem :\n",
        "    count = string.count(k)\n",
        "    letter_dict.update({k:count})\n",
        "  return print(letter_dict)\n",
        "letter_count(\"hippo runs to us!\")    "
      ],
      "execution_count": 57,
      "outputs": [
        {
          "output_type": "stream",
          "text": [
            "{'h': 1, 'i': 1, 'p': 2, 'o': 2, ' ': 3, 'r': 1, 'u': 2, 'n': 1, 's': 2, 't': 1, '!': 1}\n"
          ],
          "name": "stdout"
        }
      ]
    }
  ]
}