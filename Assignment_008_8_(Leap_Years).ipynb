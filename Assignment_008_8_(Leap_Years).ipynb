{
  "nbformat": 4,
  "nbformat_minor": 0,
  "metadata": {
    "colab": {
      "name": "Assignment-008/8 (Leap Years).ipynb",
      "provenance": [],
      "authorship_tag": "ABX9TyNXZGP6VDfZAVE7mweVXxW/",
      "include_colab_link": true
    },
    "kernelspec": {
      "name": "python3",
      "display_name": "Python 3"
    },
    "language_info": {
      "name": "python"
    }
  },
  "cells": [
    {
      "cell_type": "markdown",
      "metadata": {
        "id": "view-in-github",
        "colab_type": "text"
      },
      "source": [
        "<a href=\"https://colab.research.google.com/github/burcuaksoy91/python_assignment/blob/main/Assignment_008_8_(Leap_Years).ipynb\" target=\"_parent\"><img src=\"https://colab.research.google.com/assets/colab-badge.svg\" alt=\"Open In Colab\"/></a>"
      ]
    },
    {
      "cell_type": "code",
      "metadata": {
        "id": "8IXVO10ShIoV"
      },
      "source": [
        "def leap_year(year):\n",
        "  if year % 4 == 0:\n",
        "    if year % 100 != 0 :\n",
        "      return f\"{year} is a not leap year\"\n",
        "    elif year % 400 == 0 :\n",
        "      return f\"{year} is a leap year\"\n",
        "    else :\n",
        "     return f\"{year} is a not leap year\"\n",
        "leap_year(2500)   "
      ],
      "execution_count": null,
      "outputs": []
    }
  ]
}