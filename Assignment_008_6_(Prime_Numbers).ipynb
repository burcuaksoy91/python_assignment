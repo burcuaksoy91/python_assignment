{
  "nbformat": 4,
  "nbformat_minor": 0,
  "metadata": {
    "colab": {
      "name": "Assignment-008/6 (Prime Numbers).ipynb",
      "provenance": [],
      "authorship_tag": "ABX9TyMwt27kJQJll2FG1JbfJCSN",
      "include_colab_link": true
    },
    "kernelspec": {
      "name": "python3",
      "display_name": "Python 3"
    },
    "language_info": {
      "name": "python"
    }
  },
  "cells": [
    {
      "cell_type": "markdown",
      "metadata": {
        "id": "view-in-github",
        "colab_type": "text"
      },
      "source": [
        "<a href=\"https://colab.research.google.com/github/burcuaksoy91/python_assignment/blob/main/Assignment_008_6_(Prime_Numbers).ipynb\" target=\"_parent\"><img src=\"https://colab.research.google.com/assets/colab-badge.svg\" alt=\"Open In Colab\"/></a>"
      ]
    },
    {
      "cell_type": "code",
      "metadata": {
        "id": "kDx6rzOovHam"
      },
      "source": [
        "number = int(input(\"Numara Giriniz: \"))\n",
        "prime = []\n",
        "while number <= 0 :\n",
        "  print(\"sıfırdan büyük bir sayı giriniz.\")\n",
        "  number = int(input(\"Numara Giriniz: \"))\n",
        "for i in range(2, number + 1) :\n",
        "  for ii in range(2,i) :\n",
        "    if i % ii == 0 :\n",
        "      pass\n",
        "      break\n",
        "  else:\n",
        "    prime.append(i)\n",
        "print(prime)"
      ],
      "execution_count": null,
      "outputs": []
    }
  ]
}