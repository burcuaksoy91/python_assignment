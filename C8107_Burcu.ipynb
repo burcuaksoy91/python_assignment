{
  "nbformat": 4,
  "nbformat_minor": 0,
  "metadata": {
    "colab": {
      "name": "C8107-Burcu.ipynb",
      "provenance": [],
      "authorship_tag": "ABX9TyPpwmuA8ftwC0n1kR0lIj33",
      "include_colab_link": true
    },
    "kernelspec": {
      "name": "python3",
      "display_name": "Python 3"
    },
    "language_info": {
      "name": "python"
    }
  },
  "cells": [
    {
      "cell_type": "markdown",
      "metadata": {
        "id": "view-in-github",
        "colab_type": "text"
      },
      "source": [
        "<a href=\"https://colab.research.google.com/github/burcuaksoy91/python_assignment/blob/main/C8107_Burcu.ipynb\" target=\"_parent\"><img src=\"https://colab.research.google.com/assets/colab-badge.svg\" alt=\"Open In Colab\"/></a>"
      ]
    },
    {
      "cell_type": "markdown",
      "metadata": {
        "id": "9RXWdCKkesnm"
      },
      "source": [
        "Assignment-008/1 (Password Reminder)"
      ]
    },
    {
      "cell_type": "code",
      "metadata": {
        "id": "Qa7KfwASepO9"
      },
      "source": [
        "stage_name = \"Burcu\"\n",
        "password = \"W@12\"\n",
        "name =  input(\"Enter your name: \").title()\n",
        "while  stage_name != name:\n",
        "   print(\"Hello,{}! See you later.\".format(name))\n",
        "   name = input(\"Please enter your name: \").title()\n",
        " \n",
        "  \n",
        "print(\"Hello, {}!The password is: {}\".format(name, password))"
      ],
      "execution_count": null,
      "outputs": []
    }
  ]
}