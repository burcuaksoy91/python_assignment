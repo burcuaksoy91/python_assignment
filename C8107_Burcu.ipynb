{
  "nbformat": 4,
  "nbformat_minor": 0,
  "metadata": {
    "colab": {
      "name": "C8107_Burcu.ipynb",
      "provenance": [],
      "authorship_tag": "ABX9TyMRqRmumLsX9DIORbXDGoPG",
      "include_colab_link": true
    },
    "kernelspec": {
      "name": "python3",
      "display_name": "Python 3"
    },
    "language_info": {
      "name": "python"
    }
  },
  "cells": [
    {
      "cell_type": "markdown",
      "metadata": {
        "id": "view-in-github",
        "colab_type": "text"
      },
      "source": [
        "<a href=\"https://colab.research.google.com/github/burcuaksoy91/python_assignment/blob/main/C8107_Burcu.ipynb\" target=\"_parent\"><img src=\"https://colab.research.google.com/assets/colab-badge.svg\" alt=\"Open In Colab\"/></a>"
      ]
    },
    {
      "cell_type": "code",
      "metadata": {
        "id": "Ggdz1BsWA0We"
      },
      "source": [
        "numeric = input(\"Please enter number: \")\n",
        "\n",
        "while str(numeric).isdigit() == False :\n",
        "  print(\"It is an invalid entry. Don't use non-numeric, float, or negative values!\")\n",
        "  numeric = input(\"Please enter number: \")\n",
        "numeric_list = list(str(numeric))\n",
        "basamak = len(numeric_list)\n",
        "sayı = 0\n",
        "i = 0\n",
        "for i in range(basamak) :\n",
        "  sayı += int(numeric_list[i])**basamak\n",
        "i += 1 \n",
        "sayı\n",
        "if int(numeric) == sayı :\n",
        "  print(\"{} is an Armstrong number\".format(numeric))\n",
        "else :\n",
        "  print(\"{} is not an Armstrong number\".format(numeric))"
      ],
      "execution_count": null,
      "outputs": []
    }
  ]
}